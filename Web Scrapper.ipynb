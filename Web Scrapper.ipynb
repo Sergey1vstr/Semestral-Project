{
 "cells": [
  {
   "cell_type": "code",
   "execution_count": 32,
   "metadata": {},
   "outputs": [],
   "source": [
    "# Импортируем функцию urlopen и request из модуля request пакета urllib\n",
    "from urllib.request import urlopen\n",
    "from urllib.request import Request\n",
    "# Импортируем модуль errors\n",
    "from urllib.error import HTTPError\n",
    "# Импортируем \"прекрасный суп\"\n",
    "from bs4 import BeautifulSoup\n",
    "import re"
   ]
  },
  {
   "cell_type": "code",
   "execution_count": 33,
   "metadata": {},
   "outputs": [
    {
     "ename": "KeyboardInterrupt",
     "evalue": "",
     "output_type": "error",
     "traceback": [
      "\u001b[1;31m---------------------------------------------------------------------------\u001b[0m",
      "\u001b[1;31mKeyboardInterrupt\u001b[0m                         Traceback (most recent call last)",
      "\u001b[1;32m<ipython-input-33-0dc0ade3d5db>\u001b[0m in \u001b[0;36m<module>\u001b[1;34m\u001b[0m\n\u001b[0;32m      6\u001b[0m         \u001b[0msearch_page\u001b[0m \u001b[1;33m+=\u001b[0m \u001b[0mKeyWords\u001b[0m\u001b[1;33m[\u001b[0m\u001b[0mkw_position\u001b[0m\u001b[1;33m]\u001b[0m \u001b[1;33m+\u001b[0m \u001b[1;34m\"%20\"\u001b[0m\u001b[1;33m\u001b[0m\u001b[1;33m\u001b[0m\u001b[0m\n\u001b[0;32m      7\u001b[0m     \u001b[1;32mreturn\u001b[0m \u001b[0msearch_page\u001b[0m\u001b[1;33m\u001b[0m\u001b[1;33m\u001b[0m\u001b[0m\n\u001b[1;32m----> 8\u001b[1;33m \u001b[0msearch\u001b[0m\u001b[1;33m(\u001b[0m\u001b[1;33m[\u001b[0m\u001b[1;34m\"carbon\"\u001b[0m\u001b[1;33m,\u001b[0m \u001b[1;34m\"mesophase\"\u001b[0m\u001b[1;33m,\u001b[0m \u001b[1;34m\"gas\"\u001b[0m\u001b[1;33m,\u001b[0m \u001b[1;34m\"limon\"\u001b[0m\u001b[1;33m,\u001b[0m \u001b[1;34m\"чучхела\"\u001b[0m\u001b[1;33m]\u001b[0m\u001b[1;33m)\u001b[0m\u001b[1;33m\u001b[0m\u001b[1;33m\u001b[0m\u001b[0m\n\u001b[0m",
      "\u001b[1;32m<ipython-input-33-0dc0ade3d5db>\u001b[0m in \u001b[0;36msearch\u001b[1;34m(KeyWords)\u001b[0m\n\u001b[0;32m      4\u001b[0m     \u001b[0mkw_position\u001b[0m\u001b[1;33m=\u001b[0m\u001b[1;36m0\u001b[0m\u001b[1;33m\u001b[0m\u001b[1;33m\u001b[0m\u001b[0m\n\u001b[0;32m      5\u001b[0m     \u001b[1;32mwhile\u001b[0m \u001b[0mkw_position\u001b[0m \u001b[1;33m<\u001b[0m \u001b[0mlen\u001b[0m\u001b[1;33m(\u001b[0m\u001b[0mKeyWords\u001b[0m\u001b[1;33m)\u001b[0m\u001b[1;33m-\u001b[0m\u001b[1;36m1\u001b[0m\u001b[1;33m:\u001b[0m\u001b[1;33m\u001b[0m\u001b[1;33m\u001b[0m\u001b[0m\n\u001b[1;32m----> 6\u001b[1;33m         \u001b[0msearch_page\u001b[0m \u001b[1;33m+=\u001b[0m \u001b[0mKeyWords\u001b[0m\u001b[1;33m[\u001b[0m\u001b[0mkw_position\u001b[0m\u001b[1;33m]\u001b[0m \u001b[1;33m+\u001b[0m \u001b[1;34m\"%20\"\u001b[0m\u001b[1;33m\u001b[0m\u001b[1;33m\u001b[0m\u001b[0m\n\u001b[0m\u001b[0;32m      7\u001b[0m     \u001b[1;32mreturn\u001b[0m \u001b[0msearch_page\u001b[0m\u001b[1;33m\u001b[0m\u001b[1;33m\u001b[0m\u001b[0m\n\u001b[0;32m      8\u001b[0m \u001b[0msearch\u001b[0m\u001b[1;33m(\u001b[0m\u001b[1;33m[\u001b[0m\u001b[1;34m\"carbon\"\u001b[0m\u001b[1;33m,\u001b[0m \u001b[1;34m\"mesophase\"\u001b[0m\u001b[1;33m,\u001b[0m \u001b[1;34m\"gas\"\u001b[0m\u001b[1;33m,\u001b[0m \u001b[1;34m\"limon\"\u001b[0m\u001b[1;33m,\u001b[0m \u001b[1;34m\"чучхела\"\u001b[0m\u001b[1;33m]\u001b[0m\u001b[1;33m)\u001b[0m\u001b[1;33m\u001b[0m\u001b[1;33m\u001b[0m\u001b[0m\n",
      "\u001b[1;31mKeyboardInterrupt\u001b[0m: "
     ]
    }
   ],
   "source": [
    "# Напишем адрес, который будет запрашиваться при поиске. Адрес - результат выполнения функции\n",
    "def search(KeyWords):\n",
    "    search_page = \"https://www.sciencedirect.com/search?qs=\"\n",
    "    kw_position=0\n",
    "    while kw_position < len(KeyWords)-1:\n",
    "        search_page += KeyWords[kw_position] + \"%20\" \n",
    "    return search_page\n",
    "search([\"carbon\", \"mesophase\", \"gas\", \"limon\", \"чучхела\"])"
   ]
  },
  {
   "cell_type": "code",
   "execution_count": null,
   "metadata": {},
   "outputs": [],
   "source": [
    "# Поскольку сайт, который мы собираемся скрапить, защищен он ботов, необходимо доказать, что мы из мяса. Делаем это с помощью \n",
    "# функции .Session\n",
    "import requests as req\n",
    "session = req.Session()\n",
    "# Пишем HTTP-заголовки. Отправляются при каждом запросе\n",
    "heads = {} # ?????? Что тут написать? Откуда это взять?\n"
   ]
  },
  {
   "cell_type": "code",
   "execution_count": null,
   "metadata": {},
   "outputs": [],
   "source": [
    "# Определяем функцию, которая будет запрашивать содержимое, находящееся по URL-адресу\n",
    "# Функция учитывает возможные ошибки HTTPError или неправильное обращение к тегу (атрибуту тега) HTML\n",
    "def get_anything(url):\n",
    "    global session, heads\n",
    "    try:\n",
    "        html = session.get(url, headers=heads)\n",
    "    except HTTPError as e:\n",
    "        return \"Ошибка HTTP. Проверь URL адрес, либо у тебя нет права доступа\"\n",
    "    # Если запрос удачный, работаем с \"супом\"\n",
    "    try:\n",
    "        HTML_Code = BeautifulSoup(html.text)\n",
    "        title = HTML_Code.body.h1 # !!!! Добавить запрос к тому, что буду искать. Пока что запросим заголовки (тег h1)\n",
    "    except AttributeError as e:\n",
    "        return \"Такого ингредиента в супе нет!\"\n",
    "    return title #!!! заменить на результат поискового запроса\n",
    "MySearch = search([\"carbon\",\"mesophase\",\"creon\"])\n",
    "get_anything(MySearch)"
   ]
  },
  {
   "cell_type": "code",
   "execution_count": null,
   "metadata": {},
   "outputs": [],
   "source": []
  }
 ],
 "metadata": {
  "kernelspec": {
   "display_name": "Python 3",
   "language": "python",
   "name": "python3"
  },
  "language_info": {
   "codemirror_mode": {
    "name": "ipython",
    "version": 3
   },
   "file_extension": ".py",
   "mimetype": "text/x-python",
   "name": "python",
   "nbconvert_exporter": "python",
   "pygments_lexer": "ipython3",
   "version": "3.8.5"
  }
 },
 "nbformat": 4,
 "nbformat_minor": 4
}
