{
 "cells": [
  {
   "cell_type": "code",
   "execution_count": 21,
   "metadata": {},
   "outputs": [],
   "source": [
    "# Импортируем функцию urlopen и request из модуля request пакета urllib\n",
    "from urllib.request import urlopen\n",
    "from urllib.request import Request\n",
    "# Импортируем модуль errors\n",
    "from urllib.error import HTTPError\n",
    "# Импортируем \"прекрасный суп\"\n",
    "from bs4 import BeautifulSoup\n",
    "import re"
   ]
  },
  {
   "cell_type": "code",
   "execution_count": 22,
   "metadata": {},
   "outputs": [],
   "source": [
    "# Напишем адрес, который будет запрашиваться при поиске. Адрес - результат выполнения функции\n",
    "def search(KeyWords):\n",
    "    search_page = \"https://www.sciencedirect.com/search?qs=\"\n",
    "    kw_position = 0\n",
    "    while kw_position <= len(KeyWords)-1:\n",
    "        search_page += KeyWords[kw_position] + \"%20\"\n",
    "        kw_position += 1\n",
    "    return search_page\n"
   ]
  },
  {
   "cell_type": "code",
   "execution_count": 23,
   "metadata": {},
   "outputs": [],
   "source": [
    "# Поскольку сайт, который мы собираемся скрапить, защищен он ботов, необходимо доказать, что мы из мяса. Делаем это с помощью \n",
    "# функции .Session\n",
    "import requests as req\n",
    "session = req.Session()\n",
    "# Пишем HTTP-заголовки. Отправляются при каждом запросе\n",
    "heads = {\"User-Agent\":\"Mozilla/5.0 (Windows NT 10.0; Win64; x64) AppleWebKit/537.36 (KHTML, like Gecko) Chrome/87.0.4280.66 Safari/537.36\",\n",
    "         \"Accept\":\"text/html,application/xhtml+xml,application/xml;q=0.9,image/avif,image/webp,image/apng,*/*;q=0.8,application/signed-exchange;v=b3;q=0.9\"}\n"
   ]
  },
  {
   "cell_type": "code",
   "execution_count": 31,
   "metadata": {},
   "outputs": [
    {
     "data": {
      "text/plain": [
       "<h1><span class=\"search-body-results-text\">11,531 results</span></h1>"
      ]
     },
     "execution_count": 31,
     "metadata": {},
     "output_type": "execute_result"
    }
   ],
   "source": [
    "# Определяем функцию, которая будет запрашивать содержимое, находящееся по URL-адресу\n",
    "# Функция учитывает возможные ошибки HTTPError или неправильное обращение к тегу (атрибуту тега) HTML\n",
    "def get_anything(url):\n",
    "    global session, heads\n",
    "    try: # Посылаем запрос с помощью Сессионс, притворяясь человеком\n",
    "        html = session.get(url, headers=heads)\n",
    "    except HTTPError as e:\n",
    "        return \"Ошибка HTTP. Проверь URL адрес, либо у тебя нет права доступа\"\n",
    "    # Если запрос удачный, работаем с \"супом\"\n",
    "    try:\n",
    "        HTML_Code = BeautifulSoup(html.text)\n",
    "        title = HTML_Code.body.h1 # !!!! Добавить запрос к тому, что буду искать. Пока что запросим заголовки (тег h1)\n",
    "    except AttributeError as e:\n",
    "        return \"Такого ингредиента в супе нет!\"\n",
    "    return title #!!! заменить на результат поискового запроса\n",
    "MySearch = search([\"carbon\",\"mesophase\"])\n",
    "get_anything(MySearch)"
   ]
  },
  {
   "cell_type": "code",
   "execution_count": null,
   "metadata": {},
   "outputs": [],
   "source": []
  }
 ],
 "metadata": {
  "kernelspec": {
   "display_name": "Python 3",
   "language": "python",
   "name": "python3"
  },
  "language_info": {
   "codemirror_mode": {
    "name": "ipython",
    "version": 3
   },
   "file_extension": ".py",
   "mimetype": "text/x-python",
   "name": "python",
   "nbconvert_exporter": "python",
   "pygments_lexer": "ipython3",
   "version": "3.8.5"
  }
 },
 "nbformat": 4,
 "nbformat_minor": 4
}
