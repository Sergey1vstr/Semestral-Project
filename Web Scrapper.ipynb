{
 "cells": [
  {
   "cell_type": "code",
   "execution_count": 10,
   "metadata": {},
   "outputs": [],
   "source": [
    "# Импортируем функцию urlopen и request из модуля request пакета urllib\n",
    "from urllib.request import urlopen\n",
    "from urllib.request import Request\n",
    "# Импортируем модуль errors\n",
    "from urllib.error import HTTPError\n",
    "# Импортируем \"прекрасный суп\"\n",
    "from bs4 import BeautifulSoup\n",
    "import re"
   ]
  },
  {
   "cell_type": "code",
   "execution_count": 11,
   "metadata": {},
   "outputs": [],
   "source": [
    "# Напишем адрес, который будет запрашиваться при поиске. Адрес - результат выполнения функции\n",
    "def search(KeyWords):\n",
    "    search_page = \"https://www.sciencedirect.com/search?qs=\"\n",
    "    kw_position = 0\n",
    "    while kw_position <= len(KeyWords)-1:\n",
    "        search_page += KeyWords[kw_position] + \"%20\"\n",
    "        kw_position += 1\n",
    "    return search_page\n"
   ]
  },
  {
   "cell_type": "code",
   "execution_count": 12,
   "metadata": {},
   "outputs": [],
   "source": [
    "# Поскольку сайт, который мы собираемся скрапить, защищен он ботов, необходимо доказать, что мы из мяса. Делаем это с помощью \n",
    "# оьъекта класса reqssion\n",
    "import requests as req\n",
    "session = req.Session()\n",
    "# Пишем HTTP-заголовки. Отправляются при каждом запросе. ЗАМЕНИТЬ НА СВОИ ПРИ НЕОБХОДИМОСТИ\n",
    "heads = {\"User-Agent\":\"Mozilla/5.0 (Windows NT 10.0; Win64; x64) AppleWebKit/537.36 (KHTML, like Gecko) Chrome/87.0.4280.66 Safari/537.36\",\n",
    "         \"Accept\":\"text/html,application/xhtml+xml,application/xml;q=0.9,image/avif,image/webp,image/apng,*/*;q=0.8,application/signed-exchange;v=b3;q=0.9\"}\n"
   ]
  },
  {
   "cell_type": "code",
   "execution_count": 14,
   "metadata": {},
   "outputs": [
    {
     "name": "stdout",
     "output_type": "stream",
     "text": [
      "List of authors:\n",
      "Maria Kirgina\n",
      "Nataliya Belinskaya\n",
      "Andrey Altynov\n",
      "Aset Temirbolat\n",
      "Article name:  Transformations of stable gas condensate hydrocarbons into high-octane gasoline components over ZSM-5 zeolite catalyst\n",
      "Journal name:  Journal of Natural Gas Science and Engineering\n",
      "Article link:  https://www.sciencedirect.com/science/article/pii/S1875510020304595 \n",
      "\n",
      "\n",
      "List of authors:\n",
      "Nader Faramarzi\n",
      "Saeid Sadeghnejad\n",
      "Article name:  Fluid and rock heterogeneity assessment of gas condensate reservoirs by wavelet transform of pressure-transient responses\n",
      "Journal name:  Journal of Natural Gas Science and Engineering\n",
      "Article link:  https://www.sciencedirect.com/science/article/pii/S1875510020303231 \n",
      "\n",
      "\n",
      "List of authors:\n",
      "Mutlaq ALAROUJ\n",
      "Osamah ALOMAIR\n",
      "Adel ELSHARKAWY\n",
      "Article name:  Gas condensate reservoirs: Characterization and calculation of dew-point pressure\n",
      "Journal name:  Petroleum Exploration and Development\n",
      "Article link:  https://www.sciencedirect.com/science/article/pii/S1876380420601203 \n",
      "\n",
      "\n",
      "List of authors:\n",
      "Imtisal-e- Noor\n",
      "Andrew Martin\n",
      "Olli Dahl\n",
      "Article name:  Water recovery from flue gas condensate in municipal solid waste fired cogeneration plants using membrane distillation\n",
      "Journal name:  Chemical Engineering Journal\n",
      "Article link:  https://www.sciencedirect.com/science/article/pii/S1385894720318350 \n",
      "\n",
      "\n",
      "List of authors:\n",
      "Qasem Davarikhah\n",
      "Dariush Jafari\n",
      "Mojtaba Esfandyari\n",
      "Morteza Esfandyari\n",
      "Article name:  Prediction of a wellhead separator efficiency and risk assessment in a gas condensate reservoir\n",
      "Journal name:  Chemometrics and Intelligent Laboratory Systems\n",
      "Article link:  https://www.sciencedirect.com/science/article/pii/S0169743920302100 \n",
      "\n",
      "\n"
     ]
    }
   ],
   "source": [
    "# Определяем функцию, которая будет запрашивать содержимое, находящееся по URL-адресу\n",
    "# Функция учитывает возможные ошибки HTTPError или неправильное обращение к тегу (атрибуту тега) HTML\n",
    "\n",
    "def get_anything(url):\n",
    "    global session, heads\n",
    "    try: # Посылаем запрос с помощью Сессионс, притворяясь человеком\n",
    "        html = session.get(url, headers=heads)\n",
    "    except HTTPError as e:\n",
    "        return \"Ошибка HTTP. Проверь URL адрес, либо у тебя нет права доступа\"\n",
    "    # Если запрос удачный, работаем с \"супом\"\n",
    "    try:\n",
    "        HTML_Code = BeautifulSoup(html.text)\n",
    "        Result_Holders = HTML_Code.findAll(\"li\", {\"class\":\"ResultItem col-xs-24 push-m\"}, limit = 5)\n",
    "    except AttributeError as e:\n",
    "        return \"Такого ингредиента в супе нет!\"\n",
    "    for Result in Result_Holders:\n",
    "        article_name = Result.h2\n",
    "        authors = Result.ol.findAll(\"li\")\n",
    "        Journal = Result.find(\"div\",{\"class\":\"SubType hor\"}).a.get_text()\n",
    "        Link = Result.h2.a.get(\"href\")\n",
    "        print(\"List of authors:\")\n",
    "        for Author in authors:\n",
    "            print(Author.get_text())\n",
    "        print(\"Article name: \", article_name.get_text())\n",
    "        print(\"Journal name: \", Journal)\n",
    "        print(\"Article link: \",\"https://www.sciencedirect.com\" + Link, 2*\"\\n\")\n",
    "\n",
    "# ВВОДИТЬ КЛЮЧЕВЫЕ СЛОВА ТУТ. ЗАТЕМ ЗАПУСКАТЬ ЭТО ОКНО.\n",
    "MySearch = search([\"gas\", \"condensate\"])\n",
    "get_anything(MySearch)"
   ]
  },
  {
   "cell_type": "code",
   "execution_count": null,
   "metadata": {},
   "outputs": [],
   "source": []
  }
 ],
 "metadata": {
  "kernelspec": {
   "display_name": "Python 3",
   "language": "python",
   "name": "python3"
  },
  "language_info": {
   "codemirror_mode": {
    "name": "ipython",
    "version": 3
   },
   "file_extension": ".py",
   "mimetype": "text/x-python",
   "name": "python",
   "nbconvert_exporter": "python",
   "pygments_lexer": "ipython3",
   "version": "3.8.5"
  }
 },
 "nbformat": 4,
 "nbformat_minor": 4
}
